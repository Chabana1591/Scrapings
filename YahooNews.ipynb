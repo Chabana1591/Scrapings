{
 "cells": [
  {
   "cell_type": "code",
   "execution_count": 1,
   "metadata": {},
   "outputs": [
    {
     "data": {
      "text/plain": [
       "200"
      ]
     },
     "execution_count": 1,
     "metadata": {},
     "output_type": "execute_result"
    }
   ],
   "source": [
    "import requests\n",
    "url = \"https://news.yahoo.co.jp/topics\"\n",
    "response = requests.get(url)\n",
    "response.status_code"
   ]
  },
  {
   "cell_type": "code",
   "execution_count": 2,
   "metadata": {},
   "outputs": [],
   "source": [
    "from bs4 import BeautifulSoup\n",
    "bs = BeautifulSoup(response.content,\"lxml\")"
   ]
  },
  {
   "cell_type": "code",
   "execution_count": 3,
   "metadata": {},
   "outputs": [
    {
     "data": {
      "text/plain": [
       "<a id=\"yjPagetop\" name=\"yjPagetop\"></a>"
      ]
     },
     "execution_count": 3,
     "metadata": {},
     "output_type": "execute_result"
    }
   ],
   "source": [
    "bs.select('a')[0]"
   ]
  },
  {
   "cell_type": "code",
   "execution_count": 4,
   "metadata": {},
   "outputs": [
    {
     "data": {
      "text/plain": [
       "<ul class=\"fl\">\n",
       "<li class=\"ttl\"><a href=\"https://news.yahoo.co.jp/categories/domestic\" onmousedown=\"this.href='https://news.yahoo.co.jp/categories/domestic'\">国内</a></li>\n",
       "<li><a href=\"https://news.yahoo.co.jp/pickup/6329789\" onmousedown=\"this.href='https://news.yahoo.co.jp/pickup/6329789'\">ハンセン病 首相談話を発表へ<span class=\"icPhoto\">写真</span><span class=\"icNew\">new</span></a></li>\n",
       "<li><a href=\"https://news.yahoo.co.jp/pickup/6329785\" onmousedown=\"this.href='https://news.yahoo.co.jp/pickup/6329785'\">谷川弥一氏側が選挙違反 告発<span class=\"icNew\">new</span></a></li>\n",
       "<li><a href=\"https://news.yahoo.co.jp/pickup/6329747\" onmousedown=\"this.href='https://news.yahoo.co.jp/pickup/6329747'\">安全か不条理か 進む米軍従属<span class=\"icPhoto\">写真</span><span class=\"icNew\">new</span></a></li>\n",
       "<li><a href=\"https://news.yahoo.co.jp/pickup/6329717\" onmousedown=\"this.href='https://news.yahoo.co.jp/pickup/6329717'\">首相 イラン大統領と再会談へ<span class=\"icPhoto\">写真</span></a></li>\n",
       "<li><a href=\"https://news.yahoo.co.jp/pickup/6329742\" onmousedown=\"this.href='https://news.yahoo.co.jp/pickup/6329742'\">評論家の竹村健一氏死去 89歳<span class=\"icPhoto\">写真</span></a></li>\n",
       "<li><a href=\"https://news.yahoo.co.jp/pickup/6329727\" onmousedown=\"this.href='https://news.yahoo.co.jp/pickup/6329727'\">パワハラ 北大学長の解任要求<span class=\"icPhoto\">写真</span></a></li>\n",
       "<li><a href=\"https://news.yahoo.co.jp/pickup/6329725\" onmousedown=\"this.href='https://news.yahoo.co.jp/pickup/6329725'\">ママはがん 伝えた母娘の5年<span class=\"icPhoto\">写真</span></a></li>\n",
       "<li><a href=\"https://news.yahoo.co.jp/pickup/6329714\" onmousedown=\"this.href='https://news.yahoo.co.jp/pickup/6329714'\">金魚電話ボックス 訴え退ける<span class=\"icPhoto\">写真</span></a></li>\n",
       "<li class=\"ft\"><a href=\"https://news.yahoo.co.jp/list/?c=domestic\" onmousedown=\"this.href='https://news.yahoo.co.jp/list/?c=domestic'\">もっと見る</a></li>\n",
       "</ul>"
      ]
     },
     "execution_count": 4,
     "metadata": {},
     "output_type": "execute_result"
    }
   ],
   "source": [
    "topics = bs.select('.fl, .fr')\n",
    "topics[0]"
   ]
  },
  {
   "cell_type": "code",
   "execution_count": 5,
   "metadata": {},
   "outputs": [
    {
     "data": {
      "text/plain": [
       "'国内'"
      ]
     },
     "execution_count": 5,
     "metadata": {},
     "output_type": "execute_result"
    }
   ],
   "source": [
    "topics[0].select('li')[0].text"
   ]
  },
  {
   "cell_type": "code",
   "execution_count": 6,
   "metadata": {},
   "outputs": [
    {
     "data": {
      "text/plain": [
       "['ハンセン病 首相談話を発表へ写真new',\n",
       " '谷川弥一氏側が選挙違反 告発new',\n",
       " '安全か不条理か 進む米軍従属写真new',\n",
       " '首相 イラン大統領と再会談へ写真',\n",
       " '評論家の竹村健一氏死去 89歳写真',\n",
       " 'パワハラ 北大学長の解任要求写真',\n",
       " 'ママはがん 伝えた母娘の5年写真',\n",
       " '金魚電話ボックス 訴え退ける写真']"
      ]
     },
     "execution_count": 6,
     "metadata": {},
     "output_type": "execute_result"
    }
   ],
   "source": [
    "news_topics = {}\n",
    "for news in topics:\n",
    "    topic = news.select('li')[0].text\n",
    "    news_topics[topic] = [news_topic.text for news_topic in news.select('li')[1:-1]]\n",
    "news_topics['国内']"
   ]
  },
  {
   "cell_type": "code",
   "execution_count": 7,
   "metadata": {},
   "outputs": [
    {
     "data": {
      "text/html": [
       "<div>\n",
       "<style scoped>\n",
       "    .dataframe tbody tr th:only-of-type {\n",
       "        vertical-align: middle;\n",
       "    }\n",
       "\n",
       "    .dataframe tbody tr th {\n",
       "        vertical-align: top;\n",
       "    }\n",
       "\n",
       "    .dataframe thead th {\n",
       "        text-align: right;\n",
       "    }\n",
       "</style>\n",
       "<table border=\"1\" class=\"dataframe\">\n",
       "  <thead>\n",
       "    <tr style=\"text-align: right;\">\n",
       "      <th></th>\n",
       "      <th>国内</th>\n",
       "      <th>国際</th>\n",
       "      <th>経済</th>\n",
       "      <th>エンタメ</th>\n",
       "      <th>スポーツ</th>\n",
       "      <th>IT</th>\n",
       "      <th>科学</th>\n",
       "      <th>地域</th>\n",
       "    </tr>\n",
       "  </thead>\n",
       "  <tbody>\n",
       "    <tr>\n",
       "      <th>0</th>\n",
       "      <td>ハンセン病 首相談話を発表へ</td>\n",
       "      <td>仏でデジタル課税法が成立</td>\n",
       "      <td>NY株、一時初の2万7千ドル</td>\n",
       "      <td>ジャニーさん追悼 異彩の長瀬</td>\n",
       "      <td>OB戦ノムさん代打で申告敬遠</td>\n",
       "      <td>ドコモ 秋までに料金見直し</td>\n",
       "      <td>小惑星着地 娘のお手玉ヒント</td>\n",
       "      <td>和歌山の逃走車 横浜で盗難</td>\n",
       "    </tr>\n",
       "    <tr>\n",
       "      <th>1</th>\n",
       "      <td>谷川弥一氏側が選挙違反 告発</td>\n",
       "      <td>北朝鮮 韓国のF35導入を批判</td>\n",
       "      <td>かんぽ不正発覚後 続くノルマ</td>\n",
       "      <td>宇宙一大好き 堂本剛が追悼</td>\n",
       "      <td>小園MVP 輝星から先頭打者弾</td>\n",
       "      <td>英 Alexaで医療情報を提供へ</td>\n",
       "      <td>はやぶさ2成功は「1000点」</td>\n",
       "      <td>歌舞伎町の発砲 組員を逮捕</td>\n",
       "    </tr>\n",
       "    <tr>\n",
       "      <th>2</th>\n",
       "      <td>安全か不条理か 進む米軍従属</td>\n",
       "      <td>火星15 米本土全域を攻撃可能</td>\n",
       "      <td>関係悪化 出雲-ソウル便中止</td>\n",
       "      <td>キンプリ平野 ずっと見守って</td>\n",
       "      <td>米独立リーグ 一塁盗塁実施へ</td>\n",
       "      <td>7pay外部IDを遮断 混乱恐れ</td>\n",
       "      <td>ヘルパンギーナ 関東流行兆し</td>\n",
       "      <td>愛知男性殺害 確保の弟を逮捕</td>\n",
       "    </tr>\n",
       "    <tr>\n",
       "      <th>3</th>\n",
       "      <td>首相 イラン大統領と再会談へ</td>\n",
       "      <td>正恩氏が権威強化 外交重視か</td>\n",
       "      <td>セブン 時短認める契約を提示</td>\n",
       "      <td>ヤンクミの恋実る?夫婦役話題</td>\n",
       "      <td>病で留年 元主将挑む最後の夏</td>\n",
       "      <td>漫画村 10人以上の若者関与か</td>\n",
       "      <td>ライチョウのヒナ全滅か 長野</td>\n",
       "      <td>睡眠薬飲ませ乱暴 行員を逮捕</td>\n",
       "    </tr>\n",
       "    <tr>\n",
       "      <th>4</th>\n",
       "      <td>評論家の竹村健一氏死去 89歳</td>\n",
       "      <td>中米の少年襲われ重傷 父死亡</td>\n",
       "      <td>VW「ビートル」の生産を終了</td>\n",
       "      <td>大浦龍宇一 別居報道を否定</td>\n",
       "      <td>メンバー漏れ 母に謝った球児</td>\n",
       "      <td>漫画村の元運営者 何も話さず</td>\n",
       "      <td>ゴリラ社会もフェス開催?研究</td>\n",
       "      <td>特殊詐欺の指示役を公開手配</td>\n",
       "    </tr>\n",
       "    <tr>\n",
       "      <th>5</th>\n",
       "      <td>パワハラ 北大学長の解任要求</td>\n",
       "      <td>イラン 英タンカーだ捕未遂か</td>\n",
       "      <td>スマホ売れず 疲弊する販売店</td>\n",
       "      <td>TWICE ミナがツアーに不参加</td>\n",
       "      <td>俊輔移籍 チームに迷惑かけた</td>\n",
       "      <td>Netflix 喫煙シーン減と発表</td>\n",
       "      <td>南海トラフ事前発表 確率5.8%</td>\n",
       "      <td>北のビール不正輸入 書類送検</td>\n",
       "    </tr>\n",
       "    <tr>\n",
       "      <th>6</th>\n",
       "      <td>ママはがん 伝えた母娘の5年</td>\n",
       "      <td>輸出規制 韓国が米に懸念伝達</td>\n",
       "      <td>イオン空白県 ダイエー影響?</td>\n",
       "      <td>SUPER JUNIORカンイン脱退へ</td>\n",
       "      <td>久保の高年俸 背景に肖像権?</td>\n",
       "      <td>Music FM追放 音楽団体訴え</td>\n",
       "      <td>胴体に金属リング イルカ発見</td>\n",
       "      <td>コナン「聖地」混雑 移転検討</td>\n",
       "    </tr>\n",
       "    <tr>\n",
       "      <th>7</th>\n",
       "      <td>金魚電話ボックス 訴え退ける</td>\n",
       "      <td>ポカリCM撤退巡り中国で波紋</td>\n",
       "      <td>最高速300km ベントレー初EV</td>\n",
       "      <td>弘中アナ 批判は聞きたくない</td>\n",
       "      <td>カーリング本橋が第2子妊娠</td>\n",
       "      <td>携帯特化 新型Switch9月発売</td>\n",
       "      <td>有毒「赤いクワガタ」要注意</td>\n",
       "      <td>セブンが沖縄進出 何買った?</td>\n",
       "    </tr>\n",
       "  </tbody>\n",
       "</table>\n",
       "</div>"
      ],
      "text/plain": [
       "                国内               国際                 経済                 エンタメ  \\\n",
       "0   ハンセン病 首相談話を発表へ     仏でデジタル課税法が成立     NY株、一時初の2万7千ドル       ジャニーさん追悼 異彩の長瀬   \n",
       "1   谷川弥一氏側が選挙違反 告発  北朝鮮 韓国のF35導入を批判     かんぽ不正発覚後 続くノルマ        宇宙一大好き 堂本剛が追悼   \n",
       "2   安全か不条理か 進む米軍従属  火星15 米本土全域を攻撃可能     関係悪化 出雲-ソウル便中止       キンプリ平野 ずっと見守って   \n",
       "3   首相 イラン大統領と再会談へ   正恩氏が権威強化 外交重視か     セブン 時短認める契約を提示       ヤンクミの恋実る?夫婦役話題   \n",
       "4  評論家の竹村健一氏死去 89歳   中米の少年襲われ重傷 父死亡     VW「ビートル」の生産を終了        大浦龍宇一 別居報道を否定   \n",
       "5   パワハラ 北大学長の解任要求   イラン 英タンカーだ捕未遂か     スマホ売れず 疲弊する販売店     TWICE ミナがツアーに不参加   \n",
       "6   ママはがん 伝えた母娘の5年   輸出規制 韓国が米に懸念伝達     イオン空白県 ダイエー影響?  SUPER JUNIORカンイン脱退へ   \n",
       "7   金魚電話ボックス 訴え退ける   ポカリCM撤退巡り中国で波紋  最高速300km ベントレー初EV       弘中アナ 批判は聞きたくない   \n",
       "\n",
       "              スポーツ                 IT                科学              地域  \n",
       "0   OB戦ノムさん代打で申告敬遠      ドコモ 秋までに料金見直し    小惑星着地 娘のお手玉ヒント   和歌山の逃走車 横浜で盗難  \n",
       "1  小園MVP 輝星から先頭打者弾   英 Alexaで医療情報を提供へ   はやぶさ2成功は「1000点」   歌舞伎町の発砲 組員を逮捕  \n",
       "2   米独立リーグ 一塁盗塁実施へ   7pay外部IDを遮断 混乱恐れ    ヘルパンギーナ 関東流行兆し  愛知男性殺害 確保の弟を逮捕  \n",
       "3   病で留年 元主将挑む最後の夏    漫画村 10人以上の若者関与か    ライチョウのヒナ全滅か 長野  睡眠薬飲ませ乱暴 行員を逮捕  \n",
       "4   メンバー漏れ 母に謝った球児     漫画村の元運営者 何も話さず    ゴリラ社会もフェス開催?研究   特殊詐欺の指示役を公開手配  \n",
       "5   俊輔移籍 チームに迷惑かけた  Netflix 喫煙シーン減と発表  南海トラフ事前発表 確率5.8%  北のビール不正輸入 書類送検  \n",
       "6   久保の高年俸 背景に肖像権?  Music FM追放 音楽団体訴え    胴体に金属リング イルカ発見  コナン「聖地」混雑 移転検討  \n",
       "7    カーリング本橋が第2子妊娠  携帯特化 新型Switch9月発売     有毒「赤いクワガタ」要注意  セブンが沖縄進出 何買った?  "
      ]
     },
     "execution_count": 7,
     "metadata": {},
     "output_type": "execute_result"
    }
   ],
   "source": [
    "import pandas as pd\n",
    "topics_dt = pd.DataFrame.from_dict(news_topics)\n",
    "topics_dt.apply( lambda x: x.str.replace(r'(new|写真|動画)',''))"
   ]
  },
  {
   "cell_type": "code",
   "execution_count": null,
   "metadata": {},
   "outputs": [],
   "source": []
  }
 ],
 "metadata": {
  "kernelspec": {
   "display_name": "Python 3",
   "language": "python",
   "name": "python3"
  },
  "language_info": {
   "codemirror_mode": {
    "name": "ipython",
    "version": 3
   },
   "file_extension": ".py",
   "mimetype": "text/x-python",
   "name": "python",
   "nbconvert_exporter": "python",
   "pygments_lexer": "ipython3",
   "version": "3.7.3"
  }
 },
 "nbformat": 4,
 "nbformat_minor": 2
}
