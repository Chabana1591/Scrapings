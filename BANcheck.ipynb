{
 "cells": [
  {
   "cell_type": "code",
   "execution_count": 2,
   "metadata": {},
   "outputs": [
    {
     "name": "stdout",
     "output_type": "stream",
     "text": [
      "502\n"
     ]
    }
   ],
   "source": [
    "import requests\n",
    "import cchardet\n",
    "url = \"http://scrape.turai.work\"\n",
    "response = requests.get(url)\n",
    "response.encoding = cchardet.detect(response.content)[\"encoding\"]\n",
    "print(response.status_code)\n",
    "from bs4 import BeautifulSoup\n",
    "bs = BeautifulSoup(response.content,\"lxml\")"
   ]
  },
  {
   "cell_type": "code",
   "execution_count": 3,
   "metadata": {},
   "outputs": [
    {
     "data": {
      "text/plain": [
       "<html>\n",
       "<head><title>502 Bad Gateway</title></head>\n",
       "<body bgcolor=\"white\">\n",
       "<center><h1>502 Bad Gateway</h1></center>\n",
       "<hr/><center>nginx/1.14.0 (Ubuntu)</center>\n",
       "</body>\n",
       "</html>"
      ]
     },
     "execution_count": 3,
     "metadata": {},
     "output_type": "execute_result"
    }
   ],
   "source": [
    "bs"
   ]
  },
  {
   "cell_type": "code",
   "execution_count": 16,
   "metadata": {},
   "outputs": [],
   "source": [
    "from pprint import pprint\n",
    "import json"
   ]
  },
  {
   "cell_type": "code",
   "execution_count": 17,
   "metadata": {},
   "outputs": [
    {
     "name": "stdout",
     "output_type": "stream",
     "text": [
      "{'accept_language': {'name': 'Accept-Language', 'status': 'NG', 'value': None},\n",
      " 'remote_host': {'name': 'Remote-Host',\n",
      "                 'status': 'OK',\n",
      "                 'value': 'softbank126159224167.bbtec.net'},\n",
      " 'ua': {'name': 'User-Agent',\n",
      "        'status': 'NG',\n",
      "        'value': 'python-requests/2.21.0'}}\n"
     ]
    }
   ],
   "source": [
    "json_dict = json.loads(bs.text)\n",
    "pprint(json_dict)"
   ]
  },
  {
   "cell_type": "code",
   "execution_count": 14,
   "metadata": {},
   "outputs": [
    {
     "data": {
      "text/plain": [
       "<html><body><p>{\"ua\":{\"name\":\"User-Agent\",\"status\":\"NG\",\"value\":\"python-requests/2.21.0\"},\"accept_language\":{\"name\":\"Accept-Language\",\"status\":\"NG\",\"value\":null},\"remote_host\":{\"name\":\"Remote-Host\",\"status\":\"OK\",\"value\":\"softbank126159224167.bbtec.net\"}}</p></body></html>"
      ]
     },
     "execution_count": 14,
     "metadata": {},
     "output_type": "execute_result"
    }
   ],
   "source": [
    "bs"
   ]
  },
  {
   "cell_type": "code",
   "execution_count": null,
   "metadata": {},
   "outputs": [],
   "source": []
  }
 ],
 "metadata": {
  "kernelspec": {
   "display_name": "Python 3",
   "language": "python",
   "name": "python3"
  },
  "language_info": {
   "codemirror_mode": {
    "name": "ipython",
    "version": 3
   },
   "file_extension": ".py",
   "mimetype": "text/x-python",
   "name": "python",
   "nbconvert_exporter": "python",
   "pygments_lexer": "ipython3",
   "version": "3.7.3"
  }
 },
 "nbformat": 4,
 "nbformat_minor": 2
}
