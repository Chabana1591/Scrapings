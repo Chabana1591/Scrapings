{
 "cells": [
  {
   "cell_type": "code",
   "execution_count": 2,
   "metadata": {},
   "outputs": [
    {
     "data": {
      "text/plain": [
       "200"
      ]
     },
     "execution_count": 2,
     "metadata": {},
     "output_type": "execute_result"
    }
   ],
   "source": [
    "import requests\n",
    "import cchardet\n",
    "url = \"https://www.sakeno.com/all_meigara.html\"\n",
    "response = requests.get(url)\n",
    "response.encoding = cchardet.detect(response.content)[\"encoding\"]\n",
    "response.status_code"
   ]
  },
  {
   "cell_type": "code",
   "execution_count": 3,
   "metadata": {},
   "outputs": [],
   "source": [
    "from bs4 import BeautifulSoup\n",
    "bs = BeautifulSoup(response.content,\"lxml\")"
   ]
  },
  {
   "cell_type": "code",
   "execution_count": 4,
   "metadata": {},
   "outputs": [],
   "source": [
    "bs = bs.select(\"#maincontent\")[0]"
   ]
  },
  {
   "cell_type": "code",
   "execution_count": 5,
   "metadata": {},
   "outputs": [
    {
     "data": {
      "text/plain": [
       "[{'brand': '上川大雪', 'href': 'https://www.sakeno.com/meigara/3823'},\n",
       " {'brand': '二世古', 'href': 'https://www.sakeno.com/meigara/1234'},\n",
       " {'brand': '京極', 'href': 'https://www.sakeno.com/meigara/1235'},\n",
       " {'brand': '侍', 'href': 'https://www.sakeno.com/meigara/3661'},\n",
       " {'brand': '北の誉', 'href': 'https://www.sakeno.com/meigara/4'},\n",
       " {'brand': '大雪乃蔵', 'href': 'https://www.sakeno.com/meigara/8'},\n",
       " {'brand': '国稀', 'href': 'https://www.sakeno.com/meigara/9'},\n",
       " {'brand': 'まる田', 'href': 'https://www.sakeno.com/meigara/3820'},\n",
       " {'brand': '冬花火', 'href': 'https://www.sakeno.com/meigara/1892'},\n",
       " {'brand': '北の錦', 'href': 'https://www.sakeno.com/meigara/6'},\n",
       " {'brand': '北斗随想', 'href': 'https://www.sakeno.com/meigara/1891'},\n",
       " {'brand': '北宝', 'href': 'https://www.sakeno.com/meigara/1448'},\n",
       " {'brand': '小樽の女', 'href': 'https://www.sakeno.com/meigara/1710'},\n",
       " {'brand': '熊古露里', 'href': 'https://www.sakeno.com/meigara/1449'},\n",
       " {'brand': '雪中花（北海道）', 'href': 'https://www.sakeno.com/meigara/1709'},\n",
       " {'brand': '北見寒菊', 'href': 'https://www.sakeno.com/meigara/1451'},\n",
       " {'brand': '栄光摩周', 'href': 'https://www.sakeno.com/meigara/1450'},\n",
       " {'brand': 'すすきの美人', 'href': 'https://www.sakeno.com/meigara/3815'},\n",
       " {'brand': '北世界', 'href': 'https://www.sakeno.com/meigara/3235'},\n",
       " {'brand': '十一州', 'href': 'https://www.sakeno.com/meigara/2904'},\n",
       " {'brand': '千歳鶴', 'href': 'https://www.sakeno.com/meigara/5'},\n",
       " {'brand': '柴田', 'href': 'https://www.sakeno.com/meigara/2758'},\n",
       " {'brand': '與次右衛門', 'href': 'https://www.sakeno.com/meigara/2759'},\n",
       " {'brand': 'カムイトノト', 'href': 'https://www.sakeno.com/meigara/3193'},\n",
       " {'brand': '亀甲蔵', 'href': 'https://www.sakeno.com/meigara/3194'},\n",
       " {'brand': '十勝晴れ', 'href': 'https://www.sakeno.com/meigara/3198'},\n",
       " {'brand': '宝川', 'href': 'https://www.sakeno.com/meigara/1236'},\n",
       " {'brand': '美苫', 'href': 'https://www.sakeno.com/meigara/2979'},\n",
       " {'brand': '飲ん米', 'href': 'https://www.sakeno.com/meigara/2882'},\n",
       " {'brand': '鬼丸', 'href': 'https://www.sakeno.com/meigara/2881'},\n",
       " {'brand': '男山（北海道）', 'href': 'https://www.sakeno.com/meigara/7'},\n",
       " {'brand': '北の勝', 'href': 'https://www.sakeno.com/meigara/1452'},\n",
       " {'brand': '福司', 'href': 'https://www.sakeno.com/meigara/1237'},\n",
       " {'brand': '金滴', 'href': 'https://www.sakeno.com/meigara/2'},\n",
       " {'brand': '小樽港', 'href': 'https://www.sakeno.com/meigara/1446'},\n",
       " {'brand': '雪の花', 'href': 'https://www.sakeno.com/meigara/1447'},\n",
       " {'brand': 'ゆきわらべ', 'href': 'https://www.sakeno.com/meigara/3195'},\n",
       " {'brand': '北吹雪', 'href': 'https://www.sakeno.com/meigara/3196'},\n",
       " {'brand': '国士無双', 'href': 'https://www.sakeno.com/meigara/3'},\n",
       " {'brand': '大雪', 'href': 'https://www.sakeno.com/meigara/2693'},\n",
       " {'brand': '気まぐれ', 'href': 'https://www.sakeno.com/meigara/2804'},\n",
       " {'brand': '雪氷室 一夜雫', 'href': 'https://www.sakeno.com/meigara/150'}]"
      ]
     },
     "execution_count": 5,
     "metadata": {},
     "output_type": "execute_result"
    }
   ],
   "source": [
    "meigara = {}\n",
    "for p in bs.select(\"p\"):\n",
    "    ken = p.select(\"b a\")[0].text\n",
    "    meigara[ken] = []\n",
    "    for index,a in enumerate(p.select(\"a\")):\n",
    "        if index != 0:\n",
    "            meigara[ken].append({\"brand\":a.text,\"href\":\"https://www.sakeno.com/\"+a[\"href\"]})\n",
    "meigara[\"北海道\"]"
   ]
  },
  {
   "cell_type": "code",
   "execution_count": 6,
   "metadata": {},
   "outputs": [
    {
     "data": {
      "text/plain": [
       "'https://www.sakeno.com/meigara/3823'"
      ]
     },
     "execution_count": 6,
     "metadata": {},
     "output_type": "execute_result"
    }
   ],
   "source": [
    "meigara[\"北海道\"][0][\"href\"]"
   ]
  },
  {
   "cell_type": "code",
   "execution_count": 7,
   "metadata": {},
   "outputs": [],
   "source": [
    "import re\n",
    "from time import sleep\n",
    "import time\n",
    "from pprint import pprint\n",
    "from IPython.display import clear_output\n",
    "import json"
   ]
  },
  {
   "cell_type": "code",
   "execution_count": 8,
   "metadata": {},
   "outputs": [],
   "source": [
    "def kihonGet(kihon):\n",
    "    kihonDict = {}\n",
    "    for k in kihon:\n",
    "        pair = {}\n",
    "        if(\"銘柄名\" in k.text or \"酒蔵名\" in k.text):\n",
    "            ##かな取得\n",
    "            tmp = k.select(\"rt\")[0].text\n",
    "            ##かな消す\n",
    "            k.select(\"h3\")[0].rt.clear()\n",
    "            ##漢字取得\n",
    "            tmp2 = k.select(\"h3\")[0].text\n",
    "            pair[k.select(\"th\")[0].text]=tmp2 \n",
    "            pair[k.select(\"th\")[0].text+\"_kana\"]=tmp\n",
    "        elif(\"住所\" in k.text):\n",
    "            ken = \"\"\n",
    "            area = \"\"\n",
    "            otherUrls = []\n",
    "            aElems = k.select(\"a\")\n",
    "            for a in aElems:\n",
    "                if \"https://www.sakeno.com/all_kuramoto_todou\" in a[\"href\"]:\n",
    "                    ken = a.text\n",
    "                elif \"https://www.sakeno.com/search_area.php\" in a[\"href\"]:\n",
    "                    area = a.text\n",
    "                elif \"https://www.google.co.jp/maps/place\" in a[\"href\"]:\n",
    "                    a.parent.clear()\n",
    "                elif \"https://www.sakeno.com/area\" in a[\"href\"]:\n",
    "                    a.clear()\n",
    "                else:\n",
    "                    otherUrls.append(a[\"href\"])\n",
    "            plane = k.select(\"td\")[0].text.replace(u\"\\xa0\",u\"\")\n",
    "            pair[\"ken\"]=ken\n",
    "            pair[\"area\"]=area\n",
    "            ##TEL\n",
    "            mat_tmp = re.search('TEL0\\d{1,4}-\\d{1,4}-\\d{4}',plane)\n",
    "            if mat_tmp != None:\n",
    "                pair[\"TEL\"] = mat_tmp.group(0).replace(\"TEL\",\"\")\n",
    "                plane = plane.replace(mat_tmp.group(0),\"\")\n",
    "            ##FAX\n",
    "            mat_tmp = re.search('FAX0\\d{1,4}-\\d{1,4}-\\d{4}',plane)\n",
    "            if mat_tmp != None:\n",
    "                pair[\"FAX\"] = mat_tmp.group(0).replace(\"FAX\",\"\")\n",
    "                plane = plane.replace(mat_tmp.group(0),\"\")\n",
    "            ##URL\n",
    "            mat_tmp = re.search('https?://[\\w/:%#\\$&\\?\\(\\)~\\.=\\+\\-]+',plane)\n",
    "            if mat_tmp != None:\n",
    "                pair[\"URL\"] = mat_tmp.group(0)\n",
    "                plane = plane.replace(mat_tmp.group(0),\"\")\n",
    "            ##その他\n",
    "            pair[k.select(\"th\")[0].text]=plane\n",
    "        elif(\"酒蔵紹介\" in k.text):\n",
    "            pair[k.select(\"th\")[0].text]=k.select(\"td\")[0].text\n",
    "        elif(\"銘柄紹介\" in k.text):\n",
    "            pair[k.select(\"th\")[0].text]=k.select(\"td\")[0].text\n",
    "        elif(k.select(\"th\")!=[] and k.select(\"td\")!=[] ):\n",
    "            pair[k.select(\"th\")[0].text]=k.select(\"td\")[0].text\n",
    "        kihonDict.update(pair)\n",
    "    return kihonDict"
   ]
  },
  {
   "cell_type": "code",
   "execution_count": 9,
   "metadata": {},
   "outputs": [],
   "source": [
    "def osakeGet(osakeTable):\n",
    "    for ad in osakeTable.select(\"div\"):\n",
    "        ad.decompose()\n",
    "    osakeNameElem = osakeTable.select(\"th.hyoji_osakename\")\n",
    "    osakeName = [nme.text for nme in osakeNameElem]\n",
    "    osake = [ nme.parent for nme in osakeNameElem] ##各お酒のｔｒ要素\n",
    "    \n",
    "    osakeData = []\n",
    "    \n",
    "    for o,on in zip(osake,osakeName):\n",
    "        tmp = o.select(\".osakedata\")[0].select(\"tr\")\n",
    "        od = {}\n",
    "        ##osakename\n",
    "        od[\"name\"] = on\n",
    "        for t in tmp:\n",
    "            head = t.select(\"th\")[0].text\n",
    "            data = t.select(\"td\")[0].text\n",
    "            ##不要文字とる\n",
    "            head = head.replace(\"（参考）\",\"\")\n",
    "            if head == \"原料米\":\n",
    "                ### % 除外\n",
    "                data = re.sub(r'(?:[+±　度＋]|（(?:-(?:淡麗～\\+濃醇|辛口～\\+甘口)|参考)）|\\\\[nr]|以上|未満|前後)','',data)\n",
    "            if head == \"原料米\":\n",
    "                ### % 除外\n",
    "                data = re.sub(r'(?:[+±　度＋]|（(?:-(?:淡麗～\\+濃醇|辛口～\\+甘口)|参考)）|\\\\[nr]|以上|未満)','',data)\n",
    "            elif \"紹介\" in head:\n",
    "                data = data ##なにもしない            \n",
    "            else:\n",
    "                data = re.sub(r'(?:[%+±　度％＋]|（(?:-(?:淡麗～\\+濃醇|辛口～\\+甘口)|参考)）|\\\\[nr]|以上|未満|前後)','',data)\n",
    "            ##～や,で分割する\n",
    "            if \"紹介\" in head:\n",
    "                data = data ##なにもしない \n",
    "            else:\n",
    "                data = re.split(r'[~、，～]',data)\n",
    "                \n",
    "            ##1個の物は配列にしない\n",
    "            if(len(data) < 2):\n",
    "                data = data[0]\n",
    "                \n",
    "            od[head] = data\n",
    "        osakeData.append(od)\n",
    "\n",
    "    return osakeData\n"
   ]
  },
  {
   "cell_type": "code",
   "execution_count": 10,
   "metadata": {},
   "outputs": [
    {
     "data": {
      "text/plain": [
       "'-0.06'"
      ]
     },
     "execution_count": 10,
     "metadata": {},
     "output_type": "execute_result"
    }
   ],
   "source": [
    "re.sub(r'(?:[%+±　度％＋]|（(?:-(?:淡麗～\\+濃醇|辛口～\\+甘口)|参考)）|\\\\[nr]|以上|未満)','',\"-0.06（-辛口～+甘口）\")"
   ]
  },
  {
   "cell_type": "code",
   "execution_count": 11,
   "metadata": {},
   "outputs": [
    {
     "name": "stdout",
     "output_type": "stream",
     "text": [
      "sakeobj無いので作ります\n"
     ]
    }
   ],
   "source": [
    "if \"sakeobj\" in locals():\n",
    "    print(\"sakeobjあります\")\n",
    "else:\n",
    "    print(\"sakeobj無いので作ります\")\n",
    "    sakeobj = {}"
   ]
  },
  {
   "cell_type": "code",
   "execution_count": 13,
   "metadata": {
    "slideshow": {
     "slide_type": "-"
    }
   },
   "outputs": [
    {
     "name": "stdout",
     "output_type": "stream",
     "text": [
      "成功！！  予想経過時間：58.3min   総経過時間：51.7min\n",
      "json_dict:<class 'dict'>\n",
      "埼玉県新規追加？ y/n\n"
     ]
    },
    {
     "name": "stdin",
     "output_type": "stream",
     "text": [
      " y\n"
     ]
    },
    {
     "name": "stdout",
     "output_type": "stream",
     "text": [
      "-----辞書型から JSON 形式の文字列へ変換-----\n",
      "json_str:<class 'str'>\n",
      "-----JSON 形式の文字列から辞書型へ変換-----\n",
      "json_dict2:<class 'dict'>\n",
      "追加完了\n"
     ]
    }
   ],
   "source": [
    "\n",
    "todou = input()\n",
    "sleeptime = 30\n",
    "\n",
    "if todou not in meigara:\n",
    "    print(\"todou not in meigara\")\n",
    "else:\n",
    "\n",
    "    sakeobj[todou] = []\n",
    "\n",
    "    # 時間計測開始\n",
    "    time_sta = time.time()\n",
    "    time_end = time_sta \n",
    "\n",
    "    maxLen = len(meigara[todou])\n",
    "    for i , meigaraTodou in enumerate(meigara[todou]):\n",
    "        tim = round((time_end-time_sta)/60,1)\n",
    "        yosou = round((maxLen-i)*(sleeptime+5)/60,1)\n",
    "        print( str(i) + \"/\" + str(maxLen) +\"  restTime:\" + str(yosou) +\"min\" +\" realTime:\"+ str(tim))\n",
    "        response = requests.get(meigaraTodou[\"href\"])\n",
    "        response.encoding = cchardet.detect(response.content)[\"encoding\"]\n",
    "        print(response.status_code)\n",
    "        bs_m = BeautifulSoup(response.content,\"lxml\")\n",
    "\n",
    "        ##各銘柄(brand)の情報がここに収まる\n",
    "        brandDict = {}\n",
    "        ##基本情報\n",
    "        kihon = bs_m.select(\"table.hyoji\")[0]\n",
    "        brandDict = kihonGet(kihon)\n",
    "        brandDict['参照']=meigaraTodou[\"href\"]\n",
    "        ##お酒\n",
    "        osakeTable = bs_m.select(\"table.hyoji\")[1]\n",
    "        brandDict[\"osake\"] = osakeGet(osakeTable)\n",
    "\n",
    "        sakeobj[todou].append(brandDict)\n",
    "\n",
    "        pprint(brandDict)\n",
    "\n",
    "        time.sleep(sleeptime)\n",
    "        # 時間計測終了\n",
    "        time_end = time.time()\n",
    "\n",
    "        clear_output()\n",
    "    print(\"成功！！  予想経過時間：\" + str(round(maxLen*(sleeptime+5)/60,1)) + \"min   総経過時間：\" + str(tim) + \"min\")\n",
    "\n",
    "\n",
    "    #JSON ファイルの読み込み\n",
    "    f = open('test2.json', 'r')\n",
    "    json_dict = json.load(f)\n",
    "    print('json_dict:{}'.format(type(json_dict)))\n",
    "    f.close\n",
    "\n",
    "    if todou in json_dict:\n",
    "        print(todou + \"存在します。追加？ y/n\")\n",
    "    else:\n",
    "        print(todou + \"新規追加？ y/n\")\n",
    "    writeFlag = input()\n",
    "    if writeFlag == \"y\" or writeFlag == \"ｙ\":\n",
    "        ##追加\n",
    "        json_dict[todou] = sakeobj[todou]\n",
    "\n",
    "        #JSON データの変換\n",
    "        print('-----辞書型から JSON 形式の文字列へ変換-----')\n",
    "        json_str = json.dumps(json_dict)\n",
    "        print('json_str:{}'.format(type(json_str)))\n",
    "\n",
    "        print('-----JSON 形式の文字列から辞書型へ変換-----')\n",
    "        json_dict2 = json.loads(json_str)\n",
    "        print('json_dict2:{}'.format(type(json_dict2)))\n",
    "\n",
    "        #JSON データの書き込み\n",
    "        f2 = open('test2.json', 'w')\n",
    "        json.dump(json_dict2, f2)\n",
    "        f2.close()\n",
    "        print(\"追加完了\")\n",
    "    else:\n",
    "        print(\"追加しませんでした。\")"
   ]
  },
  {
   "cell_type": "code",
   "execution_count": 13,
   "metadata": {},
   "outputs": [],
   "source": [
    "f.close()"
   ]
  },
  {
   "cell_type": "code",
   "execution_count": null,
   "metadata": {},
   "outputs": [],
   "source": []
  },
  {
   "cell_type": "code",
   "execution_count": null,
   "metadata": {},
   "outputs": [],
   "source": []
  },
  {
   "cell_type": "code",
   "execution_count": null,
   "metadata": {},
   "outputs": [],
   "source": []
  },
  {
   "cell_type": "code",
   "execution_count": null,
   "metadata": {},
   "outputs": [],
   "source": []
  },
  {
   "cell_type": "code",
   "execution_count": null,
   "metadata": {},
   "outputs": [],
   "source": []
  },
  {
   "cell_type": "code",
   "execution_count": null,
   "metadata": {},
   "outputs": [],
   "source": []
  },
  {
   "cell_type": "code",
   "execution_count": 37,
   "metadata": {},
   "outputs": [
    {
     "name": "stdout",
     "output_type": "stream",
     "text": [
      "-----辞書型から JSON 形式の文字列へ変換-----\n",
      "json_str:<class 'str'>\n",
      "-----JSON 形式の文字列から辞書型へ変換-----\n",
      "json_dict2:<class 'dict'>\n"
     ]
    }
   ],
   "source": [
    "#JSON ファイルの読み込み\n",
    "f = open('test2.json', 'r')\n",
    "json_dict = json.load(f)\n",
    "print('json_dict:{}'.format(type(json_dict)))\n",
    "f.close\n",
    "\n",
    "if todou in json_dict:\n",
    "    print(todou + \"存在します。追加？ y/n\")\n",
    "else:\n",
    "    print(todou + \"新規追加？ y/n\")\n",
    "writeFlag = input()\n",
    "if writeFlag == \"y\":\n",
    "    ##追加\n",
    "    json_dict[todou] = sakeobj[todou]\n",
    "\n",
    "    #JSON データの変換\n",
    "    print('-----辞書型から JSON 形式の文字列へ変換-----')\n",
    "    json_str = json.dumps(json_dict)\n",
    "    print('json_str:{}'.format(type(json_str)))\n",
    "\n",
    "    print('-----JSON 形式の文字列から辞書型へ変換-----')\n",
    "    json_dict2 = json.loads(json_str)\n",
    "    print('json_dict2:{}'.format(type(json_dict2)))\n",
    "\n",
    "    #JSON データの書き込み\n",
    "    f2 = open('test2.json', 'w')\n",
    "    json.dump(json_dict2, f2)\n",
    "    f2.close()\n",
    "else:\n",
    "    print(\"追加しませんでした。\")"
   ]
  },
  {
   "cell_type": "code",
   "execution_count": null,
   "metadata": {},
   "outputs": [],
   "source": []
  },
  {
   "cell_type": "code",
   "execution_count": null,
   "metadata": {},
   "outputs": [],
   "source": []
  },
  {
   "cell_type": "code",
   "execution_count": null,
   "metadata": {},
   "outputs": [],
   "source": []
  },
  {
   "cell_type": "code",
   "execution_count": null,
   "metadata": {},
   "outputs": [],
   "source": []
  },
  {
   "cell_type": "code",
   "execution_count": null,
   "metadata": {},
   "outputs": [],
   "source": []
  },
  {
   "cell_type": "code",
   "execution_count": null,
   "metadata": {},
   "outputs": [],
   "source": []
  },
  {
   "cell_type": "code",
   "execution_count": null,
   "metadata": {},
   "outputs": [],
   "source": []
  },
  {
   "cell_type": "code",
   "execution_count": null,
   "metadata": {},
   "outputs": [],
   "source": []
  },
  {
   "cell_type": "code",
   "execution_count": null,
   "metadata": {},
   "outputs": [],
   "source": []
  },
  {
   "cell_type": "code",
   "execution_count": null,
   "metadata": {},
   "outputs": [],
   "source": []
  }
 ],
 "metadata": {
  "kernelspec": {
   "display_name": "Python 3",
   "language": "python",
   "name": "python3"
  },
  "language_info": {
   "codemirror_mode": {
    "name": "ipython",
    "version": 3
   },
   "file_extension": ".py",
   "mimetype": "text/x-python",
   "name": "python",
   "nbconvert_exporter": "python",
   "pygments_lexer": "ipython3",
   "version": "3.6.8"
  }
 },
 "nbformat": 4,
 "nbformat_minor": 2
}
